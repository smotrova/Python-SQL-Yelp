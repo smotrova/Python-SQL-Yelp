{
 "cells": [
  {
   "cell_type": "markdown",
   "metadata": {
    "colab_type": "text",
    "id": "e2qeyU9HVHwm"
   },
   "source": [
    "# Yelp Case Study"
   ]
  },
  {
   "cell_type": "markdown",
   "metadata": {},
   "source": [
    "### Case Study using `yelp_reviews`"
   ]
  },
  {
   "cell_type": "markdown",
   "metadata": {},
   "source": [
    "> Practice problems from real companies, data and questions' source [Stratascratch](https://education.stratascratch.com)"
   ]
  },
  {
   "cell_type": "code",
   "execution_count": 1,
   "metadata": {
    "colab": {},
    "colab_type": "code",
    "id": "w9p2RXWIVHwn"
   },
   "outputs": [],
   "source": [
    "# load packadges\n",
    "import pandas as pd\n",
    "import numpy as np\n",
    "import string\n",
    "import matplotlib.pyplot as plt\n",
    "import string\n",
    "import watermark\n",
    "import psycopg2 as ps\n",
    "\n",
    "from nltk import word_tokenize\n",
    "from nltk.stem import WordNetLemmatizer \n",
    "from nltk.corpus import stopwords\n",
    "from sklearn.feature_extraction.text import CountVectorizer\n",
    "from wordcloud import WordCloud"
   ]
  },
  {
   "cell_type": "code",
   "execution_count": 2,
   "metadata": {},
   "outputs": [
    {
     "name": "stdout",
     "output_type": "stream",
     "text": [
      "pandas    0.25.3\n",
      "watermark 2.0.2\n",
      "psycopg2  2.8.4 (dt dec pq3 ext lo64)\n",
      "numpy     1.18.1\n",
      "Fri Apr 03 2020 \n",
      "\n",
      "CPython 3.7.5\n",
      "IPython 7.13.0\n"
     ]
    }
   ],
   "source": [
    "# print packadges information\n",
    "\n",
    "%reload_ext watermark\n",
    "%watermark -n -v -iv"
   ]
  },
  {
   "cell_type": "markdown",
   "metadata": {},
   "source": [
    "### Get familiar with data"
   ]
  },
  {
   "cell_type": "code",
   "execution_count": 3,
   "metadata": {},
   "outputs": [],
   "source": [
    "yelp = pd.read_csv('./data/yelp_reviews.csv')"
   ]
  },
  {
   "cell_type": "markdown",
   "metadata": {},
   "source": [
    "### Data Cleaning"
   ]
  },
  {
   "cell_type": "code",
   "execution_count": 4,
   "metadata": {},
   "outputs": [
    {
     "data": {
      "text/html": [
       "<div>\n",
       "<style scoped>\n",
       "    .dataframe tbody tr th:only-of-type {\n",
       "        vertical-align: middle;\n",
       "    }\n",
       "\n",
       "    .dataframe tbody tr th {\n",
       "        vertical-align: top;\n",
       "    }\n",
       "\n",
       "    .dataframe thead th {\n",
       "        text-align: right;\n",
       "    }\n",
       "</style>\n",
       "<table border=\"1\" class=\"dataframe\">\n",
       "  <thead>\n",
       "    <tr style=\"text-align: right;\">\n",
       "      <th></th>\n",
       "      <th>business_name</th>\n",
       "      <th>review_id</th>\n",
       "      <th>user_id</th>\n",
       "      <th>stars</th>\n",
       "      <th>review_date</th>\n",
       "      <th>review_text</th>\n",
       "      <th>funny</th>\n",
       "      <th>useful</th>\n",
       "      <th>cool</th>\n",
       "    </tr>\n",
       "  </thead>\n",
       "  <tbody>\n",
       "    <tr>\n",
       "      <th>0</th>\n",
       "      <td>Thai Pan Fresh Exotic Cuisine</td>\n",
       "      <td>0ESSqLfOae77muWTv_zUqA</td>\n",
       "      <td>r-t7IiTSD0QZdt8lOUCqeQ</td>\n",
       "      <td>3</td>\n",
       "      <td>2011-02-11</td>\n",
       "      <td>Lately i have been feeling homesick for asian ...</td>\n",
       "      <td>1</td>\n",
       "      <td>1</td>\n",
       "      <td>1</td>\n",
       "    </tr>\n",
       "    <tr>\n",
       "      <th>1</th>\n",
       "      <td>Salon Lola</td>\n",
       "      <td>VyAKIaj_Rmsf_ZCHcGJyUw</td>\n",
       "      <td>SS85hfTApRnbTPcJadra8A</td>\n",
       "      <td>5</td>\n",
       "      <td>2010-05-30</td>\n",
       "      <td>I love Marilo!  She understands my hair type a...</td>\n",
       "      <td>0</td>\n",
       "      <td>0</td>\n",
       "      <td>0</td>\n",
       "    </tr>\n",
       "    <tr>\n",
       "      <th>2</th>\n",
       "      <td>Chipotle Mexican Grill</td>\n",
       "      <td>DusrkpkTGPGkqK13xO1TZg</td>\n",
       "      <td>xAVu2pZ6nIvkdHh8vGs84Q</td>\n",
       "      <td>3</td>\n",
       "      <td>2011-11-26</td>\n",
       "      <td>Standard Chipotle fare - consistently good; no...</td>\n",
       "      <td>0</td>\n",
       "      <td>0</td>\n",
       "      <td>0</td>\n",
       "    </tr>\n",
       "    <tr>\n",
       "      <th>3</th>\n",
       "      <td>Sam's Deli</td>\n",
       "      <td>A5FL-YYXnr2hnvXQbgkkrQ</td>\n",
       "      <td>Xuvj2Fq6c3mCmplVG7h21w</td>\n",
       "      <td>4</td>\n",
       "      <td>2013-10-10</td>\n",
       "      <td>Very good prices with quality ingredients.</td>\n",
       "      <td>0</td>\n",
       "      <td>0</td>\n",
       "      <td>0</td>\n",
       "    </tr>\n",
       "    <tr>\n",
       "      <th>4</th>\n",
       "      <td>Petco</td>\n",
       "      <td>SzhIWfzLHUZfiAaVTtKHxw</td>\n",
       "      <td>jHH_UDpCnF-YTnveyoMTIA</td>\n",
       "      <td>1</td>\n",
       "      <td>2012-09-02</td>\n",
       "      <td>I went to this Petco a few times and was a bit...</td>\n",
       "      <td>0</td>\n",
       "      <td>1</td>\n",
       "      <td>0</td>\n",
       "    </tr>\n",
       "  </tbody>\n",
       "</table>\n",
       "</div>"
      ],
      "text/plain": [
       "                   business_name               review_id  ... useful cool\n",
       "0  Thai Pan Fresh Exotic Cuisine  0ESSqLfOae77muWTv_zUqA  ...      1    1\n",
       "1                     Salon Lola  VyAKIaj_Rmsf_ZCHcGJyUw  ...      0    0\n",
       "2         Chipotle Mexican Grill  DusrkpkTGPGkqK13xO1TZg  ...      0    0\n",
       "3                     Sam's Deli  A5FL-YYXnr2hnvXQbgkkrQ  ...      0    0\n",
       "4                          Petco  SzhIWfzLHUZfiAaVTtKHxw  ...      1    0\n",
       "\n",
       "[5 rows x 9 columns]"
      ]
     },
     "execution_count": 4,
     "metadata": {},
     "output_type": "execute_result"
    }
   ],
   "source": [
    "yelp.head()"
   ]
  },
  {
   "cell_type": "code",
   "execution_count": 5,
   "metadata": {},
   "outputs": [
    {
     "name": "stdout",
     "output_type": "stream",
     "text": [
      "<class 'pandas.core.frame.DataFrame'>\n",
      "RangeIndex: 16390 entries, 0 to 16389\n",
      "Data columns (total 9 columns):\n",
      "business_name    16390 non-null object\n",
      "review_id        16390 non-null object\n",
      "user_id          16390 non-null object\n",
      "stars            16390 non-null object\n",
      "review_date      16390 non-null object\n",
      "review_text      16390 non-null object\n",
      "funny            16390 non-null int64\n",
      "useful           16390 non-null int64\n",
      "cool             16390 non-null int64\n",
      "dtypes: int64(3), object(6)\n",
      "memory usage: 1.1+ MB\n"
     ]
    }
   ],
   "source": [
    "yelp.info()"
   ]
  },
  {
   "cell_type": "code",
   "execution_count": 6,
   "metadata": {},
   "outputs": [],
   "source": [
    "# convert review_date to datetime \n",
    "yelp['review_date']=yelp['review_date'].apply(pd.to_datetime)"
   ]
  },
  {
   "cell_type": "code",
   "execution_count": 7,
   "metadata": {},
   "outputs": [
    {
     "data": {
      "text/plain": [
       "Timestamp('2005-04-14 00:00:00')"
      ]
     },
     "execution_count": 7,
     "metadata": {},
     "output_type": "execute_result"
    }
   ],
   "source": [
    "# Checking the review_date column for oddities. \n",
    "# Yelp was made in 2004\n",
    "\n",
    "# earliest review\n",
    "yelp['review_date'].min()"
   ]
  },
  {
   "cell_type": "code",
   "execution_count": 8,
   "metadata": {},
   "outputs": [
    {
     "data": {
      "text/plain": [
       "Timestamp('2014-01-28 00:00:00')"
      ]
     },
     "execution_count": 8,
     "metadata": {},
     "output_type": "execute_result"
    }
   ],
   "source": [
    "# latest review\n",
    "yelp['review_date'].max()"
   ]
  },
  {
   "cell_type": "code",
   "execution_count": 9,
   "metadata": {},
   "outputs": [
    {
     "data": {
      "text/plain": [
       "0"
      ]
     },
     "execution_count": 9,
     "metadata": {},
     "output_type": "execute_result"
    }
   ],
   "source": [
    "# duplicated entries\n",
    "yelp.duplicated().sum(axis=0)"
   ]
  },
  {
   "cell_type": "code",
   "execution_count": 10,
   "metadata": {},
   "outputs": [
    {
     "data": {
      "text/plain": [
       "5    5842\n",
       "4    5371\n",
       "3    2334\n",
       "2    1481\n",
       "1    1348\n",
       "?      14\n",
       "Name: stars, dtype: int64"
      ]
     },
     "execution_count": 10,
     "metadata": {},
     "output_type": "execute_result"
    }
   ],
   "source": [
    "# incorrect values in 'stars'\n",
    "yelp['stars'].value_counts(dropna=False)"
   ]
  },
  {
   "cell_type": "code",
   "execution_count": 11,
   "metadata": {},
   "outputs": [],
   "source": [
    "# replace '?' with NaNs\n",
    "yelp.loc[yelp['stars'] == '?', 'stars'] = np.nan"
   ]
  },
  {
   "cell_type": "code",
   "execution_count": 12,
   "metadata": {},
   "outputs": [
    {
     "data": {
      "text/plain": [
       "#NAME?                    196\n",
       "ikm0UCahtK34LbLCEw4YTw     41\n",
       "90a6z--_CUrl84aCzZyPsg     38\n",
       "fczQCSmaWF78toLEmb0Zsw     37\n",
       "4ozupHULqGyO42s3zNUzOQ     36\n",
       "                         ... \n",
       "28mNjM4cg0ZzOrsib5L64g      1\n",
       "i3xyCKYLeqxA-2e5pZxPWQ      1\n",
       "sC3BmovA2vr1SYvRrt7fhw      1\n",
       "_nObductLRlK6fyMt1wjtw      1\n",
       "bADkBuUDonedhUd5KB598g      1\n",
       "Name: user_id, Length: 10041, dtype: int64"
      ]
     },
     "execution_count": 12,
     "metadata": {},
     "output_type": "execute_result"
    }
   ],
   "source": [
    "# check for incorrect values in 'user_id'\n",
    "yelp['user_id'].value_counts()"
   ]
  },
  {
   "cell_type": "code",
   "execution_count": 13,
   "metadata": {},
   "outputs": [
    {
     "data": {
      "text/plain": [
       "22    16194\n",
       "6       196\n",
       "Name: user_id, dtype: int64"
      ]
     },
     "execution_count": 13,
     "metadata": {},
     "output_type": "execute_result"
    }
   ],
   "source": [
    "# how many symbols in 'user_id'\n",
    "yelp['user_id'].apply(len).value_counts(dropna=False)"
   ]
  },
  {
   "cell_type": "code",
   "execution_count": 14,
   "metadata": {},
   "outputs": [],
   "source": [
    "# replace '#NAME?' values with NaN\n",
    "yelp.loc[yelp['user_id'] == '#NAME?', 'user_id'] = None"
   ]
  },
  {
   "cell_type": "code",
   "execution_count": 15,
   "metadata": {},
   "outputs": [
    {
     "data": {
      "text/plain": [
       "196"
      ]
     },
     "execution_count": 15,
     "metadata": {},
     "output_type": "execute_result"
    }
   ],
   "source": [
    "yelp['user_id'].isnull().sum()"
   ]
  },
  {
   "cell_type": "code",
   "execution_count": 16,
   "metadata": {},
   "outputs": [
    {
     "data": {
      "text/plain": [
       "#NAME?                    193\n",
       "eReTy6kZAQWc_WvoKqwYAg      1\n",
       "DugS0f7j1NzP7bow2_APNg      1\n",
       "TCISITJ-V31b0g0E2KWI4A      1\n",
       "9W5qBikAngLrn9DBwG1cwA      1\n",
       "                         ... \n",
       "QLmAnGHIerVvtR7TCFOC2g      1\n",
       "R31JGTi5EPjpveP1DUhosg      1\n",
       "jBe74mh2XVWnkThjDyCNQw      1\n",
       "S-cQ1weGr1AJf3eY8ec0sQ      1\n",
       "jFDJTbvSw54ca48FkMDJkw      1\n",
       "Name: review_id, Length: 16198, dtype: int64"
      ]
     },
     "execution_count": 16,
     "metadata": {},
     "output_type": "execute_result"
    }
   ],
   "source": [
    "# incorrect values in 'review_id'\n",
    "yelp['review_id'].value_counts()"
   ]
  },
  {
   "cell_type": "code",
   "execution_count": 17,
   "metadata": {},
   "outputs": [
    {
     "data": {
      "text/plain": [
       "22    16197\n",
       "6       193\n",
       "Name: review_id, dtype: int64"
      ]
     },
     "execution_count": 17,
     "metadata": {},
     "output_type": "execute_result"
    }
   ],
   "source": [
    "# how many symbols in 'review_id'\n",
    "yelp['review_id'].apply(len).value_counts()"
   ]
  },
  {
   "cell_type": "code",
   "execution_count": 18,
   "metadata": {},
   "outputs": [],
   "source": [
    "# replace incorrect values with None\n",
    "yelp.loc[yelp['review_id'] == '#NAME?', 'review_id'] = None"
   ]
  },
  {
   "cell_type": "code",
   "execution_count": 19,
   "metadata": {},
   "outputs": [
    {
     "data": {
      "text/plain": [
       "193"
      ]
     },
     "execution_count": 19,
     "metadata": {},
     "output_type": "execute_result"
    }
   ],
   "source": [
    "yelp['review_id'].isna().sum()"
   ]
  },
  {
   "cell_type": "code",
   "execution_count": 20,
   "metadata": {},
   "outputs": [
    {
     "data": {
      "text/plain": [
       "418         Quick\n",
       "817      Amazing.\n",
       "1851            0\n",
       "2295       closed\n",
       "2920        YUM!!\n",
       "4347      Da bomb\n",
       "4419     So good.\n",
       "5041    they suck\n",
       "5271      Awesome\n",
       "5548    Expensive\n",
       "Name: review_text, dtype: object"
      ]
     },
     "execution_count": 20,
     "metadata": {},
     "output_type": "execute_result"
    }
   ],
   "source": [
    "# find empty or incorrect reviews\n",
    "\n",
    "review_length = yelp['review_text'].apply(len)\n",
    "yelp.loc[review_length < 10, 'review_text'].head(10)"
   ]
  },
  {
   "cell_type": "code",
   "execution_count": 21,
   "metadata": {},
   "outputs": [
    {
     "data": {
      "text/plain": [
       "1"
      ]
     },
     "execution_count": 21,
     "metadata": {},
     "output_type": "execute_result"
    }
   ],
   "source": [
    "# the shortest review\n",
    "review_length.min()"
   ]
  },
  {
   "cell_type": "code",
   "execution_count": 22,
   "metadata": {},
   "outputs": [
    {
     "data": {
      "text/plain": [
       "150"
      ]
     },
     "execution_count": 22,
     "metadata": {},
     "output_type": "execute_result"
    }
   ],
   "source": [
    "# the longest review\n",
    "review_length.max()"
   ]
  },
  {
   "cell_type": "code",
   "execution_count": 23,
   "metadata": {},
   "outputs": [
    {
     "data": {
      "text/plain": [
       "4228"
      ]
     },
     "execution_count": 23,
     "metadata": {},
     "output_type": "execute_result"
    }
   ],
   "source": [
    "# the maximal number of symbols in review equals 150\n",
    "\n",
    "# a number of reviews shorter than 150 symbols\n",
    "review_length.value_counts().iloc[1:].cumsum().iloc[-1]"
   ]
  },
  {
   "cell_type": "code",
   "execution_count": 24,
   "metadata": {},
   "outputs": [
    {
     "data": {
      "text/plain": [
       "12162"
      ]
     },
     "execution_count": 24,
     "metadata": {},
     "output_type": "execute_result"
    }
   ],
   "source": [
    "# a number of reviews that consists of 150 symbols\n",
    "review_length.value_counts().iloc[0]"
   ]
  },
  {
   "cell_type": "code",
   "execution_count": 25,
   "metadata": {},
   "outputs": [
    {
     "data": {
      "text/plain": [
       "34"
      ]
     },
     "execution_count": 25,
     "metadata": {},
     "output_type": "execute_result"
    }
   ],
   "source": [
    "# number of reviews that are shorter than 10 symbols\n",
    "\n",
    "(review_length<10).sum()"
   ]
  },
  {
   "cell_type": "code",
   "execution_count": 26,
   "metadata": {},
   "outputs": [],
   "source": [
    "# remove rows where review_text is empty or incorrect\n",
    "\n",
    "filter = (yelp['review_text']=='#NAME?')|(yelp['review_text']=='0')|(yelp['review_text']==':)')\n",
    "yelp.drop(yelp.loc[filter, :].index, inplace=True)"
   ]
  },
  {
   "cell_type": "code",
   "execution_count": 27,
   "metadata": {},
   "outputs": [],
   "source": [
    "# convert 'stars' into integer\n",
    "yelp['stars'] = yelp['stars'].astype('float64')"
   ]
  },
  {
   "cell_type": "markdown",
   "metadata": {},
   "source": [
    "5 stars - great experience. Thoroughly satisfied with product or service.\n",
    "\n",
    "4 stars - good experience. Would go here again.\n",
    "\n",
    "3 stars - average experience. Not terrible. Not fantatsic.\n",
    "\n",
    "2 stars - bad experience. Maybe one or two good points.\n",
    "\n",
    "1 stars - terrible experience. No saving grace point."
   ]
  },
  {
   "cell_type": "code",
   "execution_count": 28,
   "metadata": {},
   "outputs": [
    {
     "data": {
      "image/png": "[encoded data removed]",
      "text/plain": [
       "<Figure size 432x288 with 1 Axes>"
      ]
     },
     "metadata": {},
     "output_type": "display_data"
    }
   ],
   "source": [
    "# star ratings \n",
    "# people more likely share their positive experience / postive experience occurs frequentlier\n",
    "\n",
    "plt.bar([5,4,3,2,1], yelp['stars'].value_counts(), color='navy', alpha=0.8)\n",
    "plt.xlabel('Review Star Rating')\n",
    "plt.ylabel('Number of Reviews')\n",
    "plt.show()"
   ]
  },
  {
   "cell_type": "code",
   "execution_count": 29,
   "metadata": {},
   "outputs": [
    {
     "data": {
      "text/plain": [
       "20"
      ]
     },
     "execution_count": 29,
     "metadata": {},
     "output_type": "execute_result"
    }
   ],
   "source": [
    "# How many 5 star reviews does Lo-Lo's Chicken & Waffles have?\n",
    "\n",
    "filter = (yelp['business_name']==\"Lo-Lo's Chicken & Waffles\")&(yelp['stars']==5)\n",
    "yelp[filter].shape[0]"
   ]
  },
  {
   "cell_type": "code",
   "execution_count": 30,
   "metadata": {},
   "outputs": [
    {
     "data": {
      "image/png": "[encoded data removed]",
      "text/plain": [
       "<Figure size 432x288 with 1 Axes>"
      ]
     },
     "metadata": {},
     "output_type": "display_data"
    }
   ],
   "source": [
    "# number of reviews per year\n",
    "rev_year = yelp.set_index(yelp['review_date']).review_id.resample('Y').count()\n",
    "plt.bar(rev_year.index.year, rev_year, alpha=0.8, color='navy')\n",
    "plt.xticks(range(rev_year.index.year.min(), rev_year.index.year.max()+1))\n",
    "plt.ylabel('Number of reviews')\n",
    "plt.xlabel('Year')\n",
    "plt.show()"
   ]
  },
  {
   "cell_type": "code",
   "execution_count": 31,
   "metadata": {},
   "outputs": [
    {
     "data": {
      "image/png": "[encoded data removed]",
      "text/plain": [
       "<Figure size 432x288 with 1 Axes>"
      ]
     },
     "metadata": {},
     "output_type": "display_data"
    }
   ],
   "source": [
    "\n",
    "positive_experience = yelp[yelp['stars']>3]\n",
    "negative_experience = yelp[yelp['stars']<=3]\n",
    "\n",
    "pos_year = positive_experience.set_index(positive_experience['review_date']).review_id.resample('Y').count()\n",
    "neg_year = negative_experience.set_index(negative_experience['review_date']).review_id.resample('Y').count()\n",
    "\n",
    "plt.bar(pos_year.index.year, pos_year, alpha=0.8, color='darkgreen', label='Positive Experience')\n",
    "plt.bar(neg_year.index.year, -neg_year, alpha=0.8, color='red', label='Negative/Avg Experience')\n",
    "\n",
    "plt.xticks(range(rev_year.index.year.min(), rev_year.index.year.max()+1))\n",
    "plt.ylabel('Number of reviews')\n",
    "plt.xlabel('Year')\n",
    "plt.yticks(ticks=[-1000, 0, 1000, 2000, 3000], labels=[1000, 0, 1000, 2000, 3000])\n",
    "plt.legend()\n",
    "plt.show()"
   ]
  },
  {
   "cell_type": "code",
   "execution_count": 32,
   "metadata": {},
   "outputs": [
    {
     "data": {
      "image/png": "[encoded data removed]",
      "text/plain": [
       "<Figure size 432x288 with 1 Axes>"
      ]
     },
     "metadata": {},
     "output_type": "display_data"
    }
   ],
   "source": [
    "# relation of positive and nonpositive reviews\n",
    "\n",
    "plt.bar(pos_year.index.year, pos_year/neg_year, alpha=0.8, color='navy')\n",
    "plt.ylabel('Number of positive reviews to one nonpositive')\n",
    "plt.xticks(range(rev_year.index.year.min(), rev_year.index.year.max()+1))\n",
    "plt.show()"
   ]
  },
  {
   "cell_type": "code",
   "execution_count": 33,
   "metadata": {},
   "outputs": [
    {
     "data": {
      "text/plain": [
       "1.0    11208\n",
       "0.0     5158\n",
       "NaN       14\n",
       "Name: positive_experience, dtype: int64"
      ]
     },
     "execution_count": 33,
     "metadata": {},
     "output_type": "execute_result"
    }
   ],
   "source": [
    "# add new variable that indicates positive or nonpositive experience\n",
    "\n",
    "yelp['positive_experience'] = np.nan\n",
    "\n",
    "yelp.loc[yelp['stars']>3, 'positive_experience'] = 1\n",
    "yelp.loc[yelp['stars']<=3, 'positive_experience'] = 0\n",
    "\n",
    "yelp['positive_experience'].value_counts(dropna=False)"
   ]
  },
  {
   "cell_type": "markdown",
   "metadata": {},
   "source": [
    "### Groups of reviews"
   ]
  },
  {
   "cell_type": "code",
   "execution_count": 34,
   "metadata": {},
   "outputs": [],
   "source": [
    "# reviews without any vote\n",
    "no_votes = (yelp['cool']==0)&(yelp['funny']==0)&(yelp['useful']==0)\n",
    "\n",
    "# all categories\n",
    "all_votes = (yelp['cool']!=0)&(yelp['funny']!=0)&(yelp['useful']!=0)\n",
    "\n",
    "# cool reviews\n",
    "cool = (yelp['cool']!=0)&(yelp['funny']==0)&(yelp['useful']==0)\n",
    "\n",
    "# funny reviews\n",
    "funny = (yelp['cool']==0)&(yelp['funny']!=0)&(yelp['useful']==0)\n",
    "\n",
    "# useful reviews\n",
    "useful = (yelp['cool']==0)&(yelp['funny']==0)&(yelp['useful']!=0)\n",
    "\n",
    "# cool and funny reviews\n",
    "cool_funny = (yelp['cool']!=0)&(yelp['funny']!=0)&(yelp['useful']==0)\n",
    "\n",
    "# cool and useful reviews\n",
    "cool_useful = (yelp['cool']!=0)&(yelp['funny']==0)&(yelp['useful']!=0)\n",
    "\n",
    "# funny and useful reviews\n",
    "funny_useful = (yelp['cool']==0)&(yelp['funny']!=0)&(yelp['useful']!=0)"
   ]
  },
  {
   "cell_type": "code",
   "execution_count": 35,
   "metadata": {},
   "outputs": [],
   "source": [
    "# check that all reviews are taken into account\n",
    "# no_votes.sum()+all_votes.sum()+cool.sum()+funny.sum()+useful.sum()+cool_funny.sum()+cool_useful.sum()+funny_useful.sum()"
   ]
  },
  {
   "cell_type": "code",
   "execution_count": 36,
   "metadata": {},
   "outputs": [],
   "source": [
    "# get a number of reviews per a group\n",
    "\n",
    "groups = ['no_votes', 'all_votes', 'cool', 'funny', 'useful', 'cool_funny', 'cool_useful', 'funny_useful']\n",
    "\n",
    "amounts = [no_votes.sum(), all_votes.sum(), cool.sum(), funny.sum(), useful.sum(),\n",
    "             cool_funny.sum(), cool_useful.sum(), funny_useful.sum()]\n",
    "\n",
    "review_groups = pd.Series(dict(zip(groups, amounts))).sort_values(ascending=False)"
   ]
  },
  {
   "cell_type": "code",
   "execution_count": 37,
   "metadata": {},
   "outputs": [
    {
     "data": {
      "image/png": "[encoded data removed]",
      "text/plain": [
       "<Figure size 432x288 with 1 Axes>"
      ]
     },
     "metadata": {},
     "output_type": "display_data"
    }
   ],
   "source": [
    "plt.bar(review_groups.index, review_groups, alpha=0.8, color='navy')\n",
    "plt.xticks(rotation=45)\n",
    "plt.ylabel('Number of reviews')\n",
    "plt.show()"
   ]
  },
  {
   "cell_type": "code",
   "execution_count": 38,
   "metadata": {},
   "outputs": [
    {
     "data": {
      "text/plain": [
       "8825"
      ]
     },
     "execution_count": 38,
     "metadata": {},
     "output_type": "execute_result"
    }
   ],
   "source": [
    "# amount of useful reviews\n",
    "\n",
    "(yelp['useful'] != 0).sum()"
   ]
  },
  {
   "cell_type": "code",
   "execution_count": 39,
   "metadata": {},
   "outputs": [
    {
     "data": {
      "text/plain": [
       "1    9837\n",
       "0    6543\n",
       "Name: vote_indicator, dtype: int64"
      ]
     },
     "execution_count": 39,
     "metadata": {},
     "output_type": "execute_result"
    }
   ],
   "source": [
    "# create a new variable that indicates if review has any vote or not\n",
    "yelp['vote_indicator'] = 1\n",
    "yelp.loc[no_votes,'vote_indicator'] = 0\n",
    "\n",
    "# aprx. 40% reviews has no votes <=> no information from users about reviews\n",
    "yelp['vote_indicator'].value_counts()"
   ]
  },
  {
   "cell_type": "code",
   "execution_count": 40,
   "metadata": {},
   "outputs": [
    {
     "data": {
      "text/plain": [
       "399"
      ]
     },
     "execution_count": 40,
     "metadata": {},
     "output_type": "execute_result"
    }
   ],
   "source": [
    "# how many observations with NAs\n",
    "\n",
    "yelp.shape[0]-yelp.dropna().shape[0]"
   ]
  },
  {
   "cell_type": "code",
   "execution_count": 41,
   "metadata": {},
   "outputs": [],
   "source": [
    "# delete NAs\n",
    "\n",
    "yelp.dropna(inplace=True)"
   ]
  },
  {
   "cell_type": "code",
   "execution_count": 42,
   "metadata": {},
   "outputs": [
    {
     "name": "stdout",
     "output_type": "stream",
     "text": [
      "<class 'pandas.core.frame.DataFrame'>\n",
      "Int64Index: 15981 entries, 0 to 16389\n",
      "Data columns (total 11 columns):\n",
      "business_name          15981 non-null object\n",
      "review_id              15981 non-null object\n",
      "user_id                15981 non-null object\n",
      "stars                  15981 non-null float64\n",
      "review_date            15981 non-null datetime64[ns]\n",
      "review_text            15981 non-null object\n",
      "funny                  15981 non-null int64\n",
      "useful                 15981 non-null int64\n",
      "cool                   15981 non-null int64\n",
      "positive_experience    15981 non-null float64\n",
      "vote_indicator         15981 non-null int64\n",
      "dtypes: datetime64[ns](1), float64(2), int64(4), object(4)\n",
      "memory usage: 1.5+ MB\n"
     ]
    }
   ],
   "source": [
    "yelp.info()"
   ]
  },
  {
   "cell_type": "markdown",
   "metadata": {},
   "source": [
    "### Cleaning Text of Reviews"
   ]
  },
  {
   "cell_type": "code",
   "execution_count": 43,
   "metadata": {},
   "outputs": [],
   "source": [
    "yelp['review_clean'] = ''\n",
    "\n",
    "# remove all punctuations\n",
    "# string.punctuation\n",
    "yelp['review_clean'] = yelp['review_text'].str.replace('[{}]'.format('!\"#$%&\\()*+,-./:;<=>?@[\\\\]^_`{|}~'), '')\n",
    "\n",
    "# convert to lower case\n",
    "yelp.loc[:,'review_clean'] = yelp['review_clean'].str.lower()\n",
    "\n",
    "# remove digits\n",
    "yelp.loc[:,'review_clean'] = yelp['review_clean'].str.replace('[0-9]', '')\n",
    "\n",
    "# remove extra white spaces in text using tokenization and join\n",
    "yelp.loc[:, 'review_clean'] = yelp['review_clean'].apply(word_tokenize)\n",
    "\n",
    "# lemmatize\n",
    "#lemmatizer = WordNetLemmatizer()\n",
    "#yelp.loc[:, 'review_clean'] = yelp['review_clean'].apply(lambda S: [lemmatizer.lemmatize(s) for s in S])\n",
    "\n",
    "# count a number of words in each review\n",
    "word_counts = yelp['review_clean'].apply(len)   \n",
    "\n",
    "yelp.loc[:, 'review_clean'] = yelp['review_clean'].apply(' '.join)"
   ]
  },
  {
   "cell_type": "code",
   "execution_count": 44,
   "metadata": {},
   "outputs": [
    {
     "data": {
      "image/png": "[encoded data removed]",
      "text/plain": [
       "<Figure size 432x288 with 1 Axes>"
      ]
     },
     "metadata": {},
     "output_type": "display_data"
    }
   ],
   "source": [
    "# word counts\n",
    "plt.hist(word_counts, color='Navy', alpha=0.8, edgecolor='white')\n",
    "plt.xlabel('Number of words in a review')\n",
    "plt.ylabel('Number of reviews')\n",
    "plt.show()"
   ]
  },
  {
   "cell_type": "code",
   "execution_count": 45,
   "metadata": {},
   "outputs": [
    {
     "data": {
      "text/plain": [
       "40"
      ]
     },
     "execution_count": 45,
     "metadata": {},
     "output_type": "execute_result"
    }
   ],
   "source": [
    "word_counts.max()"
   ]
  },
  {
   "cell_type": "code",
   "execution_count": 46,
   "metadata": {},
   "outputs": [
    {
     "data": {
      "text/plain": [
       "1"
      ]
     },
     "execution_count": 46,
     "metadata": {},
     "output_type": "execute_result"
    }
   ],
   "source": [
    "word_counts.min()"
   ]
  },
  {
   "cell_type": "code",
   "execution_count": 47,
   "metadata": {},
   "outputs": [
    {
     "data": {
      "text/plain": [
       "418               quick\n",
       "817             amazing\n",
       "2295             closed\n",
       "2920                yum\n",
       "4681         overpriced\n",
       "5271            awesome\n",
       "5548          expensive\n",
       "6304               barf\n",
       "7025             closed\n",
       "9711            awesome\n",
       "9934            amazing\n",
       "10307           dislike\n",
       "11469    bestcoffeeever\n",
       "11550            awsome\n",
       "12473               meh\n",
       "13991             legit\n",
       "14274           awesome\n",
       "14363            closed\n",
       "14595          friendly\n",
       "14691         elephants\n",
       "15601               hot\n",
       "Name: review_clean, dtype: object"
      ]
     },
     "execution_count": 47,
     "metadata": {},
     "output_type": "execute_result"
    }
   ],
   "source": [
    "# one-word reviews\n",
    "yelp.loc[word_counts==word_counts.min() ,'review_clean']"
   ]
  },
  {
   "cell_type": "code",
   "execution_count": 48,
   "metadata": {},
   "outputs": [
    {
     "data": {
      "text/html": [
       "<div>\n",
       "<style scoped>\n",
       "    .dataframe tbody tr th:only-of-type {\n",
       "        vertical-align: middle;\n",
       "    }\n",
       "\n",
       "    .dataframe tbody tr th {\n",
       "        vertical-align: top;\n",
       "    }\n",
       "\n",
       "    .dataframe thead th {\n",
       "        text-align: right;\n",
       "    }\n",
       "</style>\n",
       "<table border=\"1\" class=\"dataframe\">\n",
       "  <thead>\n",
       "    <tr style=\"text-align: right;\">\n",
       "      <th></th>\n",
       "      <th>review_clean</th>\n",
       "    </tr>\n",
       "  </thead>\n",
       "  <tbody>\n",
       "    <tr>\n",
       "      <th>1788</th>\n",
       "      <td>d i s a p p o i n t e d i had long put off my ...</td>\n",
       "    </tr>\n",
       "  </tbody>\n",
       "</table>\n",
       "</div>"
      ],
      "text/plain": [
       "                                           review_clean\n",
       "1788  d i s a p p o i n t e d i had long put off my ..."
      ]
     },
     "execution_count": 48,
     "metadata": {},
     "output_type": "execute_result"
    }
   ],
   "source": [
    "# the longest review\n",
    "yelp.loc[word_counts==word_counts.max(),['review_clean']]"
   ]
  },
  {
   "cell_type": "code",
   "execution_count": 49,
   "metadata": {},
   "outputs": [],
   "source": [
    "# Save cleaned data set\n",
    "yelp.to_csv('./results/yelp_cleaned.csv', index_label=False)"
   ]
  },
  {
   "cell_type": "code",
   "execution_count": 50,
   "metadata": {},
   "outputs": [],
   "source": [
    "# Bag-of-words\n",
    "\n",
    "# Define a corpus\n",
    "corpus = yelp['review_clean']\n",
    "\n",
    "# Remove stopwords and single charachters\n",
    "stop_words = stopwords.words(['english'])\n",
    "stop_words.extend(list(string.ascii_lowercase))\n",
    "stop_words.extend([\"i've\", \"we've\", \"i'm\"])"
   ]
  },
  {
   "cell_type": "markdown",
   "metadata": {},
   "source": [
    "Bag-of-words model requires to specify the n-grams range. The n-grams represent the groups of n words, corresponding to the sequence of n consistently occuring words in a document. This sequence of n words is treated as pseudo-term."
   ]
  },
  {
   "cell_type": "code",
   "execution_count": 51,
   "metadata": {},
   "outputs": [],
   "source": [
    "vectorizer = CountVectorizer(\n",
    "                             stop_words=stop_words, \n",
    "                             ngram_range = (1,1), \n",
    "                             binary=False)\n",
    "\n",
    "freq = vectorizer.fit_transform(corpus).toarray()\n",
    "terms = vectorizer.get_feature_names()\n",
    "\n",
    "# Document-term matrix\n",
    "dtm = pd.DataFrame(freq, columns = terms, index=yelp.index)"
   ]
  },
  {
   "cell_type": "code",
   "execution_count": 52,
   "metadata": {},
   "outputs": [
    {
     "data": {
      "image/png": "[encoded data removed]",
      "text/plain": [
       "<Figure size 576x432 with 1 Axes>"
      ]
     },
     "metadata": {},
     "output_type": "display_data"
    }
   ],
   "source": [
    "# Words cloud\n",
    "term_total_freq = dtm.sum(axis=0).sort_values(ascending=False)\n",
    "\n",
    "wordcloud = WordCloud( \n",
    "                       background_color='white',\n",
    "                       width=1200,\n",
    "                       height=1000,\n",
    "                       random_state=50).generate_from_frequencies(term_total_freq)\n",
    "\n",
    "plt.figure(figsize=(8,6))\n",
    "plt.imshow(wordcloud)\n",
    "plt.axis('off')\n",
    "\n",
    "plt.savefig('./figs/yelp_review_wordcloud.png')\n",
    "plt.show()"
   ]
  },
  {
   "cell_type": "code",
   "execution_count": 53,
   "metadata": {},
   "outputs": [
    {
     "data": {
      "text/plain": [
       "86"
      ]
     },
     "execution_count": 53,
     "metadata": {},
     "output_type": "execute_result"
    }
   ],
   "source": [
    "# difference between top500 words in positive and nonpositive reviews\n",
    "\n",
    "filter = yelp['positive_experience']==1\n",
    "\n",
    "set_positive = dtm[filter].sum(axis=0).sort_values(ascending=False).head(500).index\n",
    "set_negative = dtm[~filter].sum(axis=0).sort_values(ascending=False).head(500).index\n",
    "\n",
    "len(set_positive.difference(set_negative))"
   ]
  },
  {
   "cell_type": "code",
   "execution_count": 54,
   "metadata": {},
   "outputs": [
    {
     "data": {
      "text/plain": [
       "'17.2%'"
      ]
     },
     "execution_count": 54,
     "metadata": {},
     "output_type": "execute_result"
    }
   ],
   "source": [
    "# difference in % between top500 words in positive and nonpositive reviews\n",
    "'{}%'.format(len(set_positive.difference(set_negative))/5)"
   ]
  },
  {
   "cell_type": "code",
   "execution_count": 55,
   "metadata": {},
   "outputs": [
    {
     "data": {
      "text/plain": [
       "152"
      ]
     },
     "execution_count": 55,
     "metadata": {},
     "output_type": "execute_result"
    }
   ],
   "source": [
    "# difference between words in positive and nonpositive reviews that occurs in more than in 100 reviews\n",
    "\n",
    "filter = yelp['positive_experience']==1\n",
    "\n",
    "positive = dtm[filter].sum(axis=0).sort_values(ascending=False)\n",
    "negative = dtm[~filter].sum(axis=0).sort_values(ascending=False)\n",
    "\n",
    "set_positive = positive[positive>100].index\n",
    "set_negative = negative[negative>100].index\n",
    "\n",
    "len(set_positive.difference(set_negative))"
   ]
  },
  {
   "cell_type": "code",
   "execution_count": 56,
   "metadata": {},
   "outputs": [
    {
     "data": {
      "text/plain": [
       "'0.95%'"
      ]
     },
     "execution_count": 56,
     "metadata": {},
     "output_type": "execute_result"
    }
   ],
   "source": [
    "# difference in % between words in positive and nonpositive reviews that occurs in more than in 100 reviews\n",
    "\n",
    "'{}%'.format( round(len(set_positive.difference(set_negative))/len(dtm)*100, 2))"
   ]
  }
 ],
 "metadata": {
  "colab": {
   "name": "Yelp Case Study.ipynb",
   "provenance": []
  },
  "kernelspec": {
   "display_name": "Python 3 (Spyder)",
   "language": "python3",
   "name": "python3"
  },
  "language_info": {
   "codemirror_mode": {
    "name": "ipython",
    "version": 3
   },
   "file_extension": ".py",
   "mimetype": "text/x-python",
   "name": "python",
   "nbconvert_exporter": "python",
   "pygments_lexer": "ipython3",
   "version": "3.7.5"
  }
 },
 "nbformat": 4,
 "nbformat_minor": 1
}
